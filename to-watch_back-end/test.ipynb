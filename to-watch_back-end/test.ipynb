{
 "cells": [
  {
   "cell_type": "code",
   "execution_count": 14,
   "metadata": {},
   "outputs": [
    {
     "name": "stderr",
     "output_type": "stream",
     "text": [
      "2025-01-12 11:38:06,167 CRITICAL [imdbpy] /home/lucas-rb/.local/lib/python3.10/site-packages/imdb/_exceptions.py:32: IMDbDataAccessError exception raised; args: ({'errcode': None, 'errmsg': 'None', 'url': 'https://www.imdb.com/title/tt123321123321123321/reference', 'proxy': '', 'exception type': 'IOError', 'original exception': <HTTPError 404: ''>},); kwds: {}\n",
      "Traceback (most recent call last):\n",
      "  File \"/home/lucas-rb/.local/lib/python3.10/site-packages/imdb/parser/http/__init__.py\", line 233, in retrieve_unicode\n",
      "    response = uopener.open(url)\n",
      "  File \"/usr/lib/python3.10/urllib/request.py\", line 525, in open\n",
      "    response = meth(req, response)\n",
      "  File \"/usr/lib/python3.10/urllib/request.py\", line 634, in http_response\n",
      "    response = self.parent.error(\n",
      "  File \"/usr/lib/python3.10/urllib/request.py\", line 563, in error\n",
      "    return self._call_chain(*args)\n",
      "  File \"/usr/lib/python3.10/urllib/request.py\", line 496, in _call_chain\n",
      "    result = func(*args)\n",
      "  File \"/usr/lib/python3.10/urllib/request.py\", line 643, in http_error_default\n",
      "    raise HTTPError(req.full_url, code, msg, hdrs, fp)\n",
      "urllib.error.HTTPError: HTTP Error 404: \n",
      "2025-01-12 11:38:06,169 CRITICAL [imdbpy] /home/lucas-rb/.local/lib/python3.10/site-packages/imdb/__init__.py:850: caught an exception retrieving or parsing \"main\" info set for mopID \"123321123321123321\" (accessSystem: http)\n",
      "Traceback (most recent call last):\n",
      "  File \"/home/lucas-rb/.local/lib/python3.10/site-packages/imdb/parser/http/__init__.py\", line 233, in retrieve_unicode\n",
      "    response = uopener.open(url)\n",
      "  File \"/usr/lib/python3.10/urllib/request.py\", line 525, in open\n",
      "    response = meth(req, response)\n",
      "  File \"/usr/lib/python3.10/urllib/request.py\", line 634, in http_response\n",
      "    response = self.parent.error(\n",
      "  File \"/usr/lib/python3.10/urllib/request.py\", line 563, in error\n",
      "    return self._call_chain(*args)\n",
      "  File \"/usr/lib/python3.10/urllib/request.py\", line 496, in _call_chain\n",
      "    result = func(*args)\n",
      "  File \"/usr/lib/python3.10/urllib/request.py\", line 643, in http_error_default\n",
      "    raise HTTPError(req.full_url, code, msg, hdrs, fp)\n",
      "urllib.error.HTTPError: HTTP Error 404: \n",
      "\n",
      "During handling of the above exception, another exception occurred:\n",
      "\n",
      "Traceback (most recent call last):\n",
      "  File \"/home/lucas-rb/.local/lib/python3.10/site-packages/imdb/__init__.py\", line 848, in update\n",
      "    ret = method(mopID)\n",
      "  File \"/home/lucas-rb/.local/lib/python3.10/site-packages/imdb/parser/http/__init__.py\", line 481, in get_movie_main\n",
      "    cont = self._retrieve(self.urls['movie_main'] % movieID + 'reference')\n",
      "  File \"/home/lucas-rb/.local/lib/python3.10/site-packages/imdb/parser/http/__init__.py\", line 392, in _retrieve\n",
      "    ret = self.urlOpener.retrieve_unicode(url, size=size)\n",
      "  File \"/home/lucas-rb/.local/lib/python3.10/site-packages/imdb/parser/http/__init__.py\", line 261, in retrieve_unicode\n",
      "    raise IMDbDataAccessError(\n",
      "imdb._exceptions.IMDbDataAccessError: {'errcode': None, 'errmsg': 'None', 'url': 'https://www.imdb.com/title/tt123321123321123321/reference', 'proxy': '', 'exception type': 'IOError', 'original exception': <HTTPError 404: ''>}\n"
     ]
    },
    {
     "name": "stdout",
     "output_type": "stream",
     "text": [
      "Erro\n"
     ]
    }
   ],
   "source": [
    "from imdb import Cinemagoer, IMDbDataAccessError\n",
    "try:\n",
    "    Cinemagoer().get_movie(\"123321123321123321\")\n",
    "except IMDbDataAccessError:\n",
    "    print(\"Erro\")"
   ]
  },
  {
   "cell_type": "code",
   "execution_count": 10,
   "metadata": {},
   "outputs": [
    {
     "name": "stdout",
     "output_type": "stream",
     "text": [
      "[{'cover url': 'https://m.media-amazon.com/images/M/MV5BOTk5ZDZhNGUtMDM2OS00Y2RkLWEwMmQtODg4ZTZiMGY1ZjFjXkEyXkFqcGc@._V1_QL75_UY74_CR0,0,50,74_.jpg',\n",
      "  'full-size cover url': 'https://m.media-amazon.com/images/M/MV5BOTk5ZDZhNGUtMDM2OS00Y2RkLWEwMmQtODg4ZTZiMGY1ZjFjXkEyXkFqcGc@.jpg',\n",
      "  'imdbID': '3431758',\n",
      "  'kind': 'tv series',\n",
      "  'title': 'No Game, No Life',\n",
      "  'year': 2014},\n",
      " {'cover url': 'https://m.media-amazon.com/images/M/MV5BMjRjMTA3ZDktZDBhMy00NjhjLTk1ODMtODU5NWE2NWExNzYxXkEyXkFqcGc@._V1_QL75_UY74_CR3,0,50,74_.jpg',\n",
      "  'full-size cover url': 'https://m.media-amazon.com/images/M/MV5BMjRjMTA3ZDktZDBhMy00NjhjLTk1ODMtODU5NWE2NWExNzYxXkEyXkFqcGc@.jpg',\n",
      "  'imdbID': '7447044',\n",
      "  'kind': 'tv series',\n",
      "  'title': 'No Game No Life Specials',\n",
      "  'year': 2014},\n",
      " {'cover url': 'https://m.media-amazon.com/images/M/MV5BZDg5NDVhYzAtYTgzZi00Y2Q2LThiNjYtODM2YmIxZjZlZTYzXkEyXkFqcGc@._V1_QL75_UY74_CR12,0,50,74_.jpg',\n",
      "  'full-size cover url': 'https://m.media-amazon.com/images/M/MV5BZDg5NDVhYzAtYTgzZi00Y2Q2LThiNjYtODM2YmIxZjZlZTYzXkEyXkFqcGc@.jpg',\n",
      "  'imdbID': '16797870',\n",
      "  'kind': 'movie',\n",
      "  'title': 'Episode 174 - No Game No Life',\n",
      "  'year': 2021},\n",
      " {'cover url': None,\n",
      "  'full-size cover url': None,\n",
      "  'imdbID': '22732922',\n",
      "  'kind': 'movie',\n",
      "  'title': 'Episode 70: No Game No Life/No Game No Life: Zero w/ Jacob '\n",
      "           'Banuelos (@TCGBattleground)',\n",
      "  'year': 2021},\n",
      " {'cover url': None,\n",
      "  'full-size cover url': None,\n",
      "  'imdbID': '33410116',\n",
      "  'kind': 'movie',\n",
      "  'title': 'No Game, No Life | An Honest Discussion',\n",
      "  'year': 2021},\n",
      " {'cover url': 'https://m.media-amazon.com/images/M/MV5BZGQyMGE5YWMtYjU5OS00Y2M3LWJkZjctMDk3OTk1MDQ1YWM1XkEyXkFqcGc@._V1_QL75_UY74_CR12,0,50,74_.jpg',\n",
      "  'full-size cover url': 'https://m.media-amazon.com/images/M/MV5BZGQyMGE5YWMtYjU5OS00Y2M3LWJkZjctMDk3OTk1MDQ1YWM1XkEyXkFqcGc@.jpg',\n",
      "  'imdbID': '19490006',\n",
      "  'kind': 'movie',\n",
      "  'title': 'No Game No Life 0 - Movie Review',\n",
      "  'year': 2020},\n",
      " {'cover url': None,\n",
      "  'full-size cover url': None,\n",
      "  'imdbID': '9447648',\n",
      "  'kind': 'episode',\n",
      "  'title': 'No Game No Life en 7 minutes',\n",
      "  'year': 2017},\n",
      " {'cover url': None,\n",
      "  'full-size cover url': None,\n",
      "  'imdbID': '19482422',\n",
      "  'kind': 'movie',\n",
      "  'title': 'Episode Sixty Three: No Game No Life: Zero',\n",
      "  'year': 2017},\n",
      " {'cover url': 'https://m.media-amazon.com/images/M/MV5BZGQyMGE5YWMtYjU5OS00Y2M3LWJkZjctMDk3OTk1MDQ1YWM1XkEyXkFqcGc@._V1_QL75_UY74_CR12,0,50,74_.jpg',\n",
      "  'full-size cover url': 'https://m.media-amazon.com/images/M/MV5BZGQyMGE5YWMtYjU5OS00Y2M3LWJkZjctMDk3OTk1MDQ1YWM1XkEyXkFqcGc@.jpg',\n",
      "  'imdbID': '21732314',\n",
      "  'kind': 'movie',\n",
      "  'title': 'No Game No Life Season 2 Never - ACAD Episode 172',\n",
      "  'year': 2022},\n",
      " {'cover url': 'https://m.media-amazon.com/images/M/MV5BMTRhOTU3NmEtMzg4My00YmM0LWE5NWEtYjM5NDJlNDc1MGE1XkEyXkFqcGc@._V1_QL75_UY74_CR2,0,50,74_.jpg',\n",
      "  'full-size cover url': 'https://m.media-amazon.com/images/M/MV5BMTRhOTU3NmEtMzg4My00YmM0LWE5NWEtYjM5NDJlNDc1MGE1XkEyXkFqcGc@.jpg',\n",
      "  'imdbID': '5914996',\n",
      "  'kind': 'movie',\n",
      "  'title': 'No Game No Life: Zero',\n",
      "  'year': 2017},\n",
      " {'cover url': None,\n",
      "  'full-size cover url': None,\n",
      "  'imdbID': '34478189',\n",
      "  'kind': 'movie',\n",
      "  'title': 'There Is No Neutral In The Game Of Life',\n",
      "  'year': 2018},\n",
      " {'cover url': None,\n",
      "  'full-size cover url': None,\n",
      "  'imdbID': '29237777',\n",
      "  'kind': 'movie',\n",
      "  'title': 'Mastering the game of life and leaving no stone unturned',\n",
      "  'year': 2020},\n",
      " {'cover url': None,\n",
      "  'full-size cover url': None,\n",
      "  'imdbID': '19833556',\n",
      "  'kind': 'movie',\n",
      "  'title': \"Theres No Win Or Lose In Life - INFJs Say It's Enough To Play The \"\n",
      "           'Game',\n",
      "  'year': 2020},\n",
      " {'cover url': None,\n",
      "  'full-size cover url': None,\n",
      "  'imdbID': '29655169',\n",
      "  'kind': 'movie',\n",
      "  'title': '#2: Squid Game, Streik og So no one told you life was gonna be '\n",
      "           'this way',\n",
      "  'year': 2023},\n",
      " {'cover url': 'https://m.media-amazon.com/images/M/MV5BYmZiNjE3MTAtOTg2ZS00ZDRmLTlhYTEtYzNiNmMyYzFhZTlhXkEyXkFqcGc@._V1_QL75_UY74_CR12,0,50,74_.jpg',\n",
      "  'full-size cover url': 'https://m.media-amazon.com/images/M/MV5BYmZiNjE3MTAtOTg2ZS00ZDRmLTlhYTEtYzNiNmMyYzFhZTlhXkEyXkFqcGc@.jpg',\n",
      "  'imdbID': '17211762',\n",
      "  'kind': 'movie',\n",
      "  'title': '8 Video Game Endings That Made You Say WHAT?! - Life Is Strange! '\n",
      "           \"Outlast! Asura's Wrath! I Have No Mouth, And I Must Scream?!\",\n",
      "  'year': 2021},\n",
      " {'cover url': None,\n",
      "  'full-size cover url': None,\n",
      "  'imdbID': '35062623',\n",
      "  'kind': 'movie',\n",
      "  'title': 'Travis Hunter: 2024 Heisman Finalist plans to play both offense '\n",
      "           'and defense in the NFL, how Deion Sanders changed his life, bond '\n",
      "           'with Shedeur & Shilo, emotions around Colorado last game, fiance '\n",
      "           'Leanna and being drafted No 1 in the NFL',\n",
      "  'year': 2024},\n",
      " {'cover url': 'https://m.media-amazon.com/images/M/MV5BZmFiZDY2ZDItZDliOC00Y2JhLTliMWYtODkzMTA0YmIwZDA3XkEyXkFqcGc@._V1_QL75_UX50_CR0,0,50,74_.jpg',\n",
      "  'full-size cover url': 'https://m.media-amazon.com/images/M/MV5BZmFiZDY2ZDItZDliOC00Y2JhLTliMWYtODkzMTA0YmIwZDA3XkEyXkFqcGc@.jpg',\n",
      "  'imdbID': '0264235',\n",
      "  'kind': 'tv series',\n",
      "  'title': 'Curb Your Enthusiasm',\n",
      "  'year': 2000},\n",
      " {'cover url': 'https://m.media-amazon.com/images/M/MV5BNjMyZTAwOTMtMzQ5OC00YzdkLTlkYTUtYzRlOWYxNDU1ODdmXkEyXkFqcGc@._V1_QL75_UY74_CR0,0,50,74_.jpg',\n",
      "  'full-size cover url': 'https://m.media-amazon.com/images/M/MV5BNjMyZTAwOTMtMzQ5OC00YzdkLTlkYTUtYzRlOWYxNDU1ODdmXkEyXkFqcGc@.jpg',\n",
      "  'imdbID': '10981954',\n",
      "  'kind': 'tv series',\n",
      "  'title': 'No Guns Life',\n",
      "  'year': 2019},\n",
      " {'cover url': 'https://m.media-amazon.com/images/M/MV5BNDFiNzgzNDctYTY1Zi00MmEwLWI0ZGQtYmYyZDgwZDhmODM0XkEyXkFqcGc@._V1_QL75_UY74_CR30,0,50,74_.jpg',\n",
      "  'full-size cover url': 'https://m.media-amazon.com/images/M/MV5BNDFiNzgzNDctYTY1Zi00MmEwLWI0ZGQtYmYyZDgwZDhmODM0XkEyXkFqcGc@.jpg',\n",
      "  'imdbID': '9801422',\n",
      "  'kind': 'tv series',\n",
      "  'title': 'No Side Game',\n",
      "  'year': 2019},\n",
      " {'cover url': 'https://m.media-amazon.com/images/M/MV5BNDQ4NjkxNzgzN15BMl5BanBnXkFtZTgwMjAzODQ4OTE@._V1_QL75_UX50_CR0,3,50,74_.jpg',\n",
      "  'full-size cover url': 'https://m.media-amazon.com/images/M/MV5BNDQ4NjkxNzgzN15BMl5BanBnXkFtZTgwMjAzODQ4OTE@.jpg',\n",
      "  'imdbID': '1753383',\n",
      "  'kind': 'movie',\n",
      "  'title': \"A Dog's Purpose\",\n",
      "  'year': 2017}]\n"
     ]
    }
   ],
   "source": [
    "from pprint import pprint\n",
    "from imdb import Cinemagoer\n",
    "\n",
    "returnVal = []\n",
    "search_result = Cinemagoer().search_movie(\"No Game No Life\")\n",
    "for i in range(len(search_result)):\n",
    "    returnVal.append(dict())\n",
    "\n",
    "    returnVal[i][\"imdbID\"] = search_result[i].getID()\n",
    "\n",
    "    try:\n",
    "        returnVal[i][\"title\"] = search_result[i][\"title\"]\n",
    "    except:\n",
    "        returnVal[i][\"title\"] = None\n",
    "\n",
    "    try:\n",
    "        returnVal[i][\"year\"] = search_result[i][\"year\"]\n",
    "    except KeyError:\n",
    "        returnVal[i][\"year\"] = None\n",
    "\n",
    "    try:\n",
    "        returnVal[i][\"kind\"] = search_result[i][\"kind\"]\n",
    "    except KeyError:\n",
    "        returnVal[i][\"kind\"] = None\n",
    "\n",
    "    try:\n",
    "        returnVal[i][\"cover url\"] = search_result[i][\"cover url\"]\n",
    "    except KeyError:\n",
    "        returnVal[i][\"cover url\"] = None\n",
    "\n",
    "    try:\n",
    "        returnVal[i][\"full-size cover url\"] = search_result[i][\"full-size cover url\"]\n",
    "    except KeyError:\n",
    "        returnVal[i][\"full-size cover url\"] = None\n",
    "\n",
    "pprint(returnVal)\n",
    "\n"
   ]
  },
  {
   "cell_type": "code",
   "execution_count": 7,
   "metadata": {},
   "outputs": [
    {
     "ename": "AttributeError",
     "evalue": "'dict' object has no attribute 'getID'",
     "output_type": "error",
     "traceback": [
      "\u001b[0;31m---------------------------------------------------------------------------\u001b[0m",
      "\u001b[0;31mAttributeError\u001b[0m                            Traceback (most recent call last)",
      "Cell \u001b[0;32mIn[7], line 1\u001b[0m\n\u001b[0;32m----> 1\u001b[0m \u001b[43mreturnVal\u001b[49m\u001b[43m[\u001b[49m\u001b[38;5;241;43m0\u001b[39;49m\u001b[43m]\u001b[49m\u001b[38;5;241;43m.\u001b[39;49m\u001b[43mgetID\u001b[49m()\n",
      "\u001b[0;31mAttributeError\u001b[0m: 'dict' object has no attribute 'getID'"
     ]
    }
   ],
   "source": [
    "returnVal[0].getID()"
   ]
  },
  {
   "cell_type": "code",
   "execution_count": 13,
   "metadata": {},
   "outputs": [],
   "source": [
    "import requests\n",
    "base = \"http://127.0.0.1:5000\"\n"
   ]
  },
  {
   "cell_type": "code",
   "execution_count": null,
   "metadata": {},
   "outputs": [
    {
     "name": "stdout",
     "output_type": "stream",
     "text": [
      "[\n",
      "  {\n",
      "    \"id\": 1,\n",
      "    \"name\": \"Teste\"\n",
      "  },\n",
      "  {\n",
      "    \"id\": 2,\n",
      "    \"name\": \"Teste\"\n",
      "  },\n",
      "  {\n",
      "    \"id\": 3,\n",
      "    \"name\": \"test list\"\n",
      "  },\n",
      "  {\n",
      "    \"id\": 4,\n",
      "    \"name\": \"test list 2\"\n",
      "  },\n",
      "  {\n",
      "    \"id\": 5,\n",
      "    \"name\": \"test list 2\"\n",
      "  }\n",
      "]\n",
      "\n"
     ]
    }
   ],
   "source": [
    "# get every list\n",
    "res = requests.get(f\"{base}/lists\")\n",
    "print(res.content.decode(\"utf-8\"))"
   ]
  },
  {
   "cell_type": "code",
   "execution_count": 23,
   "metadata": {},
   "outputs": [
    {
     "name": "stdout",
     "output_type": "stream",
     "text": [
      "[\n",
      "  {\n",
      "    \"cover_url\": \"inexistente.com\",\n",
      "    \"id\": 3,\n",
      "    \"imdb_id\": null,\n",
      "    \"kind\": null,\n",
      "    \"rating\": 20.0,\n",
      "    \"title\": \"NGNL Season 2\",\n",
      "    \"year\": 2025\n",
      "  },\n",
      "  {\n",
      "    \"cover_url\": \"inexistente.com\",\n",
      "    \"id\": 4,\n",
      "    \"imdb_id\": null,\n",
      "    \"kind\": \"alucina\\u00e7\\u00e3o coletiva\",\n",
      "    \"rating\": 20.0,\n",
      "    \"title\": \"NGNL Season 2\",\n",
      "    \"year\": 2025\n",
      "  },\n",
      "  {\n",
      "    \"cover_url\": \"inexistente.com\",\n",
      "    \"id\": 5,\n",
      "    \"imdb_id\": \"um imdb id ai\",\n",
      "    \"kind\": \"alucinac\\u00e3o coletiva\",\n",
      "    \"rating\": 20.0,\n",
      "    \"title\": \"NGNL Season 2\",\n",
      "    \"year\": 2025\n",
      "  }\n",
      "]\n",
      "\n"
     ]
    }
   ],
   "source": [
    "listid = 1\n",
    "res = requests.get(f\"{base}/movies/{listid}\")\n",
    "print(res.content.decode(\"utf-8\"))"
   ]
  },
  {
   "cell_type": "code",
   "execution_count": 52,
   "metadata": {},
   "outputs": [
    {
     "name": "stdout",
     "output_type": "stream",
     "text": [
      "[\n",
      "  {\n",
      "    \"cover_url\": \"inexistente.com\",\n",
      "    \"id\": 3,\n",
      "    \"imdb_id\": null,\n",
      "    \"kind\": null,\n",
      "    \"rating\": 20.0,\n",
      "    \"title\": \"NGNL Season 2\",\n",
      "    \"year\": 2025\n",
      "  },\n",
      "  {\n",
      "    \"cover_url\": \"inexistente.com\",\n",
      "    \"id\": 5,\n",
      "    \"imdb_id\": \"um imdb id ai\",\n",
      "    \"kind\": \"alucinac\\u00e3o coletiva\",\n",
      "    \"rating\": 20.0,\n",
      "    \"title\": \"NGNL Season 2\",\n",
      "    \"year\": 2025\n",
      "  }\n",
      "]\n",
      "\n"
     ]
    }
   ],
   "source": [
    "listid = 1\n",
    "movieid = 4\n",
    "res = requests.delete(f\"{base}/remove_from_list/{listid}/{movieid}\")\n",
    "print(res.content.decode(\"utf-8\").replace(\"<br>\", \"\\n\"))"
   ]
  },
  {
   "cell_type": "code",
   "execution_count": 26,
   "metadata": {},
   "outputs": [
    {
     "data": {
      "text/plain": [
       "b'<!doctype html>\\n<html lang=en>\\n<title>400 Bad Request</title>\\n<h1>Bad Request</h1>\\n<p>List id not found</p>\\n'"
      ]
     },
     "execution_count": 26,
     "metadata": {},
     "output_type": "execute_result"
    }
   ],
   "source": []
  }
 ],
 "metadata": {
  "kernelspec": {
   "display_name": "Python 3",
   "language": "python",
   "name": "python3"
  },
  "language_info": {
   "codemirror_mode": {
    "name": "ipython",
    "version": 3
   },
   "file_extension": ".py",
   "mimetype": "text/x-python",
   "name": "python",
   "nbconvert_exporter": "python",
   "pygments_lexer": "ipython3",
   "version": "3.10.12"
  }
 },
 "nbformat": 4,
 "nbformat_minor": 2
}
