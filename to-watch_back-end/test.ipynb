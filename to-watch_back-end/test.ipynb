{
 "cells": [
  {
   "cell_type": "code",
   "execution_count": 28,
   "metadata": {},
   "outputs": [],
   "source": [
    "import requests\n",
    "from imdb import Cinemagoer\n",
    "from time import time"
   ]
  },
  {
   "cell_type": "code",
   "execution_count": 10,
   "metadata": {},
   "outputs": [
    {
     "data": {
      "text/plain": [
       "b'<p>Searching for \"avengers\" </p>'"
      ]
     },
     "execution_count": 10,
     "metadata": {},
     "output_type": "execute_result"
    }
   ],
   "source": [
    "url = \"http://localhost:5000\"\n",
    "\n",
    "response = requests.get(f\"{url}/search/avengers\")\n",
    "\n",
    "response.content"
   ]
  },
  {
   "cell_type": "code",
   "execution_count": 2,
   "metadata": {},
   "outputs": [],
   "source": [
    "def imdbSearch(title):\n",
    "    ia = Cinemagoer()\n",
    "    search_result = ia.search_movie(title)\n",
    "\n",
    "    returnVal = [dict() for _ in range(len(search_result))]\n",
    "    for i in range(len(search_result)):\n",
    "        returnVal[i][\"imdbID\"] = search_result[i].getID()\n",
    "\n",
    "        try:\n",
    "            returnVal[i][\"title\"] = search_result[i][\"title\"]\n",
    "        except:\n",
    "            returnVal[i][\"title\"] = None\n",
    "\n",
    "        try:\n",
    "            returnVal[i][\"year\"] = search_result[i][\"year\"]\n",
    "        except KeyError:\n",
    "            returnVal[i][\"year\"] = None\n",
    "\n",
    "        try:\n",
    "            returnVal[i][\"kind\"] = search_result[i][\"kind\"]\n",
    "        except KeyError:\n",
    "            returnVal[i][\"kind\"] = None\n",
    "\n",
    "        try:\n",
    "            returnVal[i][\"cover url\"] = search_result[i][\"cover url\"]\n",
    "        except KeyError:\n",
    "            returnVal[i][\"cover url\"] = None\n",
    "\n",
    "        try:\n",
    "            returnVal[i][\"full-size cover url\"] = search_result[i][\"full-size cover url\"]\n",
    "        except KeyError:\n",
    "            returnVal[i][\"full-size cover url\"] = None\n",
    "\n",
    "    return returnVal"
   ]
  },
  {
   "cell_type": "code",
   "execution_count": 43,
   "metadata": {},
   "outputs": [
    {
     "name": "stdout",
     "output_type": "stream",
     "text": [
      "Conteúdo busca em massa:\n",
      "['title', 'year', 'kind', 'cover url', 'canonical title', 'long imdb title', 'long imdb canonical title', 'smart canonical title', 'smart long imdb canonical title', 'full-size cover url']\n",
      "Tempo gasto: 2.2487761974334717\n",
      "\n",
      "Conteúdo busca individual:\n",
      "['localized title', 'cast', 'genres', 'runtimes', 'countries', 'country codes', 'language codes', 'color info', 'aspect ratio', 'sound mix', 'certificates', 'number of seasons', 'rating', 'votes', 'cover url', 'imdbID', 'videos', 'plot outline', 'languages', 'title', 'year', 'kind', 'series years', 'original title', 'akas', 'seasons', 'writer', 'production companies', 'distributors', 'other companies', 'plot', 'canonical title', 'long imdb title', 'long imdb canonical title', 'smart canonical title', 'smart long imdb canonical title', 'full-size cover url']\n",
      "Tempo gasto: 2.5517706871032715\n",
      "\n",
      "Conteúdo busca individual, de todos\n",
      "{'localized title': 20, 'cast': 9, 'genres': 9, 'runtimes': 16, 'countries': 8, 'country codes': 8, 'language codes': 8, 'color info': 8, 'aspect ratio': 4, 'sound mix': 3, 'certificates': 6, 'number of seasons': 5, 'rating': 8, 'votes': 8, 'cover url': 8, 'imdbID': 20, 'videos': 3, 'plot outline': 7, 'languages': 8, 'title': 20, 'year': 20, 'kind': 20, 'series years': 6, 'original title': 20, 'akas': 8, 'seasons': 5, 'writer': 9, 'production companies': 7, 'distributors': 7, 'other companies': 4, 'plot': 8, 'canonical title': 20, 'long imdb title': 20, 'long imdb canonical title': 20, 'smart canonical title': 20, 'smart long imdb canonical title': 20, 'full-size cover url': 8, 'original air date': 14, 'number of episodes': 12, 'previous episode': 12, 'next episode': 12, 'season': 12, 'episode': 12, 'editor': 3, 'art direction': 3, 'sound crew': 3, 'episode of': 1, 'long imdb episode title': 1, 'series title': 1, 'canonical series title': 1, 'episode title': 1, 'canonical episode title': 1, 'smart canonical series title': 1, 'smart canonical episode title': 1, 'director': 2, 'producer': 2, 'composer': 2, 'cinematographer': 2, 'editorial department': 2, 'assistant director': 2, 'art department': 2, 'camera and electrical department': 2, 'animation department': 2, 'music department': 2, 'miscellaneous crew': 2, 'thanks': 2, 'special effects': 2, 'box office': 1, 'casting director': 1, 'production design': 1, 'set decoration': 1, 'costume designer': 1, 'make up': 1, 'production manager': 1, 'visual effects': 1, 'stunt performer': 1, 'casting department': 1, 'costume department': 1, 'location management': 1, 'script department': 1, 'transportation department': 1, 'special effects companies': 1, 'synopsis': 1}\n",
      "Tempo gasto: 53.539103507995605\n"
     ]
    }
   ],
   "source": [
    "ia = Cinemagoer()\n",
    "\n",
    "print(\"Conteúdo busca em massa:\")\n",
    "timeA = time()\n",
    "search_result = ia.search_movie(\"no game no life\")\n",
    "movie = search_result[0]\n",
    "timeB = time()\n",
    "print(movie.keys())\n",
    "print(f\"Tempo gasto: {timeB - timeA}\")\n",
    "\n",
    "print()\n",
    "\n",
    "print(\"Conteúdo busca individual:\")\n",
    "timeA = time()\n",
    "movie = ia.get_movie(movie.getID())\n",
    "timeB = time()\n",
    "print(movie.keys())\n",
    "print(f\"Tempo gasto: {timeB - timeA}\")\n",
    "\n",
    "print()\n",
    "\n",
    "print(\"Conteúdo busca individual, de todos\")\n",
    "timeA = time()\n",
    "aux = dict()\n",
    "for i in range(len(search_result)):\n",
    "    movieID = search_result[i].getID()\n",
    "    movie = ia.get_movie(movieID)\n",
    "    \n",
    "    for key in movie.keys():\n",
    "        if key not in aux:\n",
    "            aux[key] = 1\n",
    "        else:\n",
    "            aux[key] += 1\n",
    "timeB = time()\n",
    "print(aux)\n",
    "print(f\"Tempo gasto: {timeB - timeA}\")\n",
    "    \n",
    "timeB = time()"
   ]
  },
  {
   "cell_type": "code",
   "execution_count": null,
   "metadata": {},
   "outputs": [],
   "source": [
    "timeB = time()"
   ]
  },
  {
   "cell_type": "code",
   "execution_count": 47,
   "metadata": {},
   "outputs": [
    {
     "name": "stdout",
     "output_type": "stream",
     "text": [
      "['plot']\n"
     ]
    }
   ],
   "source": [
    "ia.update(movie, info=['main', 'plot', 'synopsis'])\n",
    "movie = ia.get_movie(movie.getID(), \"synopsis\")\n",
    "print(movie.keys())"
   ]
  },
  {
   "cell_type": "code",
   "execution_count": 48,
   "metadata": {},
   "outputs": [
    {
     "data": {
      "text/plain": [
       "['The story of a game development company employee and her boss, who happens to be her ex-girlfriend.',\n",
       " \"This is the second drama adaptation of the original manga Chaser Game, which is set in the games industry. It follows Harumoto Itsuki, a 27 year old employee who works at the game development company Dynamic Dream. She is selected as the project leader of a major collaborative work between Japan and China. Hayashi Fuyu is the head of a major Chinese content company but she also happens to be Harumoto's ex-girlfriend. This is a revenge love-hate drama between a lesbian boss and her subordinate.—Drama-Otaku\"]"
      ]
     },
     "execution_count": 48,
     "metadata": {},
     "output_type": "execute_result"
    }
   ],
   "source": [
    "movie[\"plot\"]"
   ]
  },
  {
   "cell_type": "code",
   "execution_count": 21,
   "metadata": {},
   "outputs": [
    {
     "data": {
      "text/plain": [
       "['main', 'plot', 'synopsis']"
      ]
     },
     "execution_count": 21,
     "metadata": {},
     "output_type": "execute_result"
    }
   ],
   "source": [
    "movie.current_info"
   ]
  },
  {
   "cell_type": "code",
   "execution_count": 27,
   "metadata": {},
   "outputs": [
    {
     "data": {
      "text/plain": [
       "['title',\n",
       " 'year',\n",
       " 'kind',\n",
       " 'cover url',\n",
       " 'canonical title',\n",
       " 'long imdb title',\n",
       " 'long imdb canonical title',\n",
       " 'smart canonical title',\n",
       " 'smart long imdb canonical title',\n",
       " 'full-size cover url']"
      ]
     },
     "execution_count": 27,
     "metadata": {},
     "output_type": "execute_result"
    }
   ],
   "source": [
    "movie.keys()"
   ]
  }
 ],
 "metadata": {
  "kernelspec": {
   "display_name": "Python 3",
   "language": "python",
   "name": "python3"
  },
  "language_info": {
   "codemirror_mode": {
    "name": "ipython",
    "version": 3
   },
   "file_extension": ".py",
   "mimetype": "text/x-python",
   "name": "python",
   "nbconvert_exporter": "python",
   "pygments_lexer": "ipython3",
   "version": "3.10.12"
  }
 },
 "nbformat": 4,
 "nbformat_minor": 2
}
