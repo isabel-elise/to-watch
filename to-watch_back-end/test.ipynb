{
 "cells": [
  {
   "cell_type": "code",
   "execution_count": 1,
   "metadata": {},
   "outputs": [],
   "source": [
    "import requests\n",
    "from imdb import Cinemagoer\n",
    "from time import time"
   ]
  },
  {
   "cell_type": "code",
   "execution_count": 10,
   "metadata": {},
   "outputs": [
    {
     "data": {
      "text/plain": [
       "b'<p>Searching for \"avengers\" </p>'"
      ]
     },
     "execution_count": 10,
     "metadata": {},
     "output_type": "execute_result"
    }
   ],
   "source": [
    "url = \"http://localhost:5000\"\n",
    "\n",
    "response = requests.get(f\"{url}/search/avengers\")\n",
    "\n",
    "response.content"
   ]
  },
  {
   "cell_type": "code",
   "execution_count": 17,
   "metadata": {},
   "outputs": [
    {
     "data": {
      "text/plain": [
       "[{'imdbID': '0800320',\n",
       "  'title': 'Clash of the Titans',\n",
       "  'year': 2010,\n",
       "  'kind': 'movie',\n",
       "  'cover url': 'https://m.media-amazon.com/images/M/MV5BMTYxNjg4MzU5OV5BMl5BanBnXkFtZTcwOTA3NTUwMw@@._V1_QL75_UX50_CR0,0,50,74_.jpg',\n",
       "  'full-size cover url': 'https://m.media-amazon.com/images/M/MV5BMTYxNjg4MzU5OV5BMl5BanBnXkFtZTcwOTA3NTUwMw@@.jpg'},\n",
       " {'imdbID': '0082186',\n",
       "  'title': 'Clash of the Titans',\n",
       "  'year': 1981,\n",
       "  'kind': 'movie',\n",
       "  'cover url': 'https://m.media-amazon.com/images/M/MV5BMWIyN2Q2OGEtY2I3Mi00YzM0LWEyMjMtOTc2MmQxNTRjMjI5XkEyXkFqcGc@._V1_QL75_UX50_CR0,1,50,74_.jpg',\n",
       "  'full-size cover url': 'https://m.media-amazon.com/images/M/MV5BMWIyN2Q2OGEtY2I3Mi00YzM0LWEyMjMtOTc2MmQxNTRjMjI5XkEyXkFqcGc@.jpg'},\n",
       " {'imdbID': '1646987',\n",
       "  'title': 'Wrath of the Titans',\n",
       "  'year': 2012,\n",
       "  'kind': 'movie',\n",
       "  'cover url': 'https://m.media-amazon.com/images/M/MV5BMjMyMzk1Nzg3OF5BMl5BanBnXkFtZTcwOTQ2NjcxNw@@._V1_QL75_UX50_CR0,0,50,74_.jpg',\n",
       "  'full-size cover url': 'https://m.media-amazon.com/images/M/MV5BMjMyMzk1Nzg3OF5BMl5BanBnXkFtZTcwOTQ2NjcxNw@@.jpg'},\n",
       " {'imdbID': '0758577',\n",
       "  'title': 'Class of the Titans',\n",
       "  'year': 2006,\n",
       "  'kind': 'tv series',\n",
       "  'cover url': 'https://m.media-amazon.com/images/M/MV5BNmRiODBkYTgtZDFiNC00ZmUzLWJlMzEtMjRhMTJjYWFhNDgzXkEyXkFqcGc@._V1_QL75_UY74_CR6,0,50,74_.jpg',\n",
       "  'full-size cover url': 'https://m.media-amazon.com/images/M/MV5BNmRiODBkYTgtZDFiNC00ZmUzLWJlMzEtMjRhMTJjYWFhNDgzXkEyXkFqcGc@.jpg'},\n",
       " {'imdbID': '0426556',\n",
       "  'title': 'Raging Sharks',\n",
       "  'year': 2005,\n",
       "  'kind': 'video movie',\n",
       "  'cover url': 'https://m.media-amazon.com/images/M/MV5BZDA5MzFlMWYtMDY5NS00MTVhLTllNzAtYTRjNmU0YjBkMTM5XkEyXkFqcGc@._V1_QL75_UX50_CR0,1,50,74_.jpg',\n",
       "  'full-size cover url': 'https://m.media-amazon.com/images/M/MV5BZDA5MzFlMWYtMDY5NS00MTVhLTllNzAtYTRjNmU0YjBkMTM5XkEyXkFqcGc@.jpg'},\n",
       " {'imdbID': '1813507',\n",
       "  'title': 'Mignon (Aria de Titania)',\n",
       "  'year': 1908,\n",
       "  'kind': 'short',\n",
       "  'cover url': None,\n",
       "  'full-size cover url': None},\n",
       " {'imdbID': '1561699',\n",
       "  'title': 'Furia de Titán',\n",
       "  'year': 2009,\n",
       "  'kind': 'movie',\n",
       "  'cover url': 'https://m.media-amazon.com/images/M/MV5BZmE4NDQ5NzYtYTU2My00N2E5LTgzNmItNDEzOGU4OTc5MWNlXkEyXkFqcGc@._V1_QL75_UY74_CR2,0,50,74_.jpg',\n",
       "  'full-size cover url': 'https://m.media-amazon.com/images/M/MV5BZmE4NDQ5NzYtYTU2My00N2E5LTgzNmItNDEzOGU4OTc5MWNlXkEyXkFqcGc@.jpg'},\n",
       " {'imdbID': '28569887',\n",
       "  'title': \"Dokoka de mita 'Anogê'-mutachi o bouningen de tsukuttemitakedo, hatashite anata wa kuriadekirunoka?\",\n",
       "  'year': 2023,\n",
       "  'kind': 'video game',\n",
       "  'cover url': 'https://m.media-amazon.com/images/M/MV5BN2M4ZDQxNjktZTlhYS00MjBjLWE3ZDItNzZiZWRmZDI1MGE1XkEyXkFqcGc@._V1_QL75_UY74_CR54,0,50,74_.jpg',\n",
       "  'full-size cover url': 'https://m.media-amazon.com/images/M/MV5BN2M4ZDQxNjktZTlhYS00MjBjLWE3ZDItNzZiZWRmZDI1MGE1XkEyXkFqcGc@.jpg'},\n",
       " {'imdbID': '33498655',\n",
       "  'title': \"Dokoka de mita 'Anogê'-mutachi o bouningen de tsukuttemitakedo, hatashite anata wa kuriadekirunoka? 2\",\n",
       "  'year': 2024,\n",
       "  'kind': 'video game',\n",
       "  'cover url': None,\n",
       "  'full-size cover url': None},\n",
       " {'imdbID': '28334448',\n",
       "  'title': 'El día de furia de Javiera tras la salida de Gonzalo a Martita',\n",
       "  'year': 2023,\n",
       "  'kind': 'movie',\n",
       "  'cover url': 'https://m.media-amazon.com/images/M/MV5BOTFiOTBmNGEtYTE2YS00ODZlLThjOWEtZDc4YzMwMDZmNjczXkEyXkFqcGc@._V1_QL75_UY74_CR42,0,50,74_.jpg',\n",
       "  'full-size cover url': 'https://m.media-amazon.com/images/M/MV5BOTFiOTBmNGEtYTE2YS00ODZlLThjOWEtZDc4YzMwMDZmNjczXkEyXkFqcGc@.jpg'},\n",
       " {'imdbID': '28839824',\n",
       "  'title': 'NUEVA DIMENSIÓN (23x35) - Sevilla y su simbología secreta - La Gomera y el Triángulo Maldito - Lluvia de Titanio',\n",
       "  'year': 2023,\n",
       "  'kind': 'movie',\n",
       "  'cover url': 'https://m.media-amazon.com/images/M/MV5BOWJlOTM0NmUtZTE1MC00NGRiLWJkNDItNmRlYjEyNDM3ZTRmXkEyXkFqcGc@._V1_QL75_UY74_CR12,0,50,74_.jpg',\n",
       "  'full-size cover url': 'https://m.media-amazon.com/images/M/MV5BOWJlOTM0NmUtZTE1MC00NGRiLWJkNDItNmRlYjEyNDM3ZTRmXkEyXkFqcGc@.jpg'}]"
      ]
     },
     "execution_count": 17,
     "metadata": {},
     "output_type": "execute_result"
    }
   ],
   "source": [
    "from imdbSearch import imdbSearcher\n",
    "imdbSearcher().imdbSearchMultipleMovies(\"fúria de titãs\")"
   ]
  },
  {
   "cell_type": "code",
   "execution_count": 2,
   "metadata": {},
   "outputs": [],
   "source": [
    "def imdbSearch(title):\n",
    "    ia = Cinemagoer()\n",
    "    search_result = ia.search_movie(title)\n",
    "\n",
    "    returnVal = [dict() for _ in range(len(search_result))]\n",
    "    for i in range(len(search_result)):\n",
    "        returnVal[i][\"imdbID\"] = search_result[i].getID()\n",
    "\n",
    "        try:\n",
    "            returnVal[i][\"title\"] = search_result[i][\"title\"]\n",
    "        except:\n",
    "            returnVal[i][\"title\"] = None\n",
    "\n",
    "        try:\n",
    "            returnVal[i][\"year\"] = search_result[i][\"year\"]\n",
    "        except KeyError:\n",
    "            returnVal[i][\"year\"] = None\n",
    "\n",
    "        try:\n",
    "            returnVal[i][\"kind\"] = search_result[i][\"kind\"]\n",
    "        except KeyError:\n",
    "            returnVal[i][\"kind\"] = None\n",
    "\n",
    "        try:\n",
    "            returnVal[i][\"cover url\"] = search_result[i][\"cover url\"]\n",
    "        except KeyError:\n",
    "            returnVal[i][\"cover url\"] = None\n",
    "\n",
    "        try:\n",
    "            returnVal[i][\"full-size cover url\"] = search_result[i][\"full-size cover url\"]\n",
    "        except KeyError:\n",
    "            returnVal[i][\"full-size cover url\"] = None\n",
    "\n",
    "    return returnVal"
   ]
  },
  {
   "cell_type": "code",
   "execution_count": 49,
   "metadata": {},
   "outputs": [
    {
     "name": "stdout",
     "output_type": "stream",
     "text": [
      "Conteúdo busca em massa:\n",
      "['title', 'year', 'kind', 'cover url', 'canonical title', 'long imdb title', 'long imdb canonical title', 'smart canonical title', 'smart long imdb canonical title', 'full-size cover url']\n",
      "Tempo gasto: 2.2376065254211426\n",
      "\n",
      "Conteúdo busca individual:\n",
      "['localized title', 'cast', 'genres', 'runtimes', 'countries', 'country codes', 'language codes', 'color info', 'aspect ratio', 'sound mix', 'certificates', 'number of seasons', 'rating', 'votes', 'cover url', 'imdbID', 'videos', 'plot outline', 'languages', 'title', 'year', 'kind', 'series years', 'original title', 'akas', 'seasons', 'writer', 'production companies', 'distributors', 'other companies', 'plot', 'canonical title', 'long imdb title', 'long imdb canonical title', 'smart canonical title', 'smart long imdb canonical title', 'full-size cover url']\n",
      "Tempo gasto: 3.585465908050537\n",
      "\n"
     ]
    }
   ],
   "source": [
    "ia = Cinemagoer()\n",
    "\n",
    "print(\"Conteúdo busca em massa:\")\n",
    "timeA = time()\n",
    "search_result = ia.search_movie(\"no game no life\")\n",
    "movie = search_result[0]\n",
    "timeB = time()\n",
    "print(movie.keys())\n",
    "print(f\"Tempo gasto: {timeB - timeA}\")\n",
    "\n",
    "print()\n",
    "\n",
    "print(\"Conteúdo busca individual:\")\n",
    "timeA = time()\n",
    "movie = ia.get_movie(movie.getID())\n",
    "timeB = time()\n",
    "print(movie.keys())\n",
    "print(f\"Tempo gasto: {timeB - timeA}\")\n",
    "\n",
    "print()\n",
    "\n",
    "# print(\"Conteúdo busca individual, de todos\")\n",
    "# timeA = time()\n",
    "# aux = dict()\n",
    "# for i in range(len(search_result)):\n",
    "#     movieID = search_result[i].getID()\n",
    "#     movie = ia.get_movie(movieID)\n",
    "    \n",
    "#     for key in movie.keys():\n",
    "#         if key not in aux:\n",
    "#             aux[key] = 1\n",
    "#         else:\n",
    "#             aux[key] += 1\n",
    "# timeB = time()\n",
    "# print(aux)\n",
    "# print(f\"Tempo gasto: {timeB - timeA}\")\n",
    "    \n",
    "# timeB = time()"
   ]
  },
  {
   "cell_type": "code",
   "execution_count": null,
   "metadata": {},
   "outputs": [],
   "source": [
    "timeB = time()"
   ]
  },
  {
   "cell_type": "code",
   "execution_count": 47,
   "metadata": {},
   "outputs": [
    {
     "name": "stdout",
     "output_type": "stream",
     "text": [
      "['plot']\n"
     ]
    }
   ],
   "source": [
    "ia.update(movie, info=['main', 'plot', 'synopsis'])\n",
    "movie = ia.get_movie(movie.getID(), \"synopsis\")\n",
    "print(movie.keys())"
   ]
  },
  {
   "cell_type": "code",
   "execution_count": 48,
   "metadata": {},
   "outputs": [
    {
     "data": {
      "text/plain": [
       "['The story of a game development company employee and her boss, who happens to be her ex-girlfriend.',\n",
       " \"This is the second drama adaptation of the original manga Chaser Game, which is set in the games industry. It follows Harumoto Itsuki, a 27 year old employee who works at the game development company Dynamic Dream. She is selected as the project leader of a major collaborative work between Japan and China. Hayashi Fuyu is the head of a major Chinese content company but she also happens to be Harumoto's ex-girlfriend. This is a revenge love-hate drama between a lesbian boss and her subordinate.—Drama-Otaku\"]"
      ]
     },
     "execution_count": 48,
     "metadata": {},
     "output_type": "execute_result"
    }
   ],
   "source": [
    "movie[\"plot\"]"
   ]
  },
  {
   "cell_type": "code",
   "execution_count": 21,
   "metadata": {},
   "outputs": [
    {
     "data": {
      "text/plain": [
       "['main', 'plot', 'synopsis']"
      ]
     },
     "execution_count": 21,
     "metadata": {},
     "output_type": "execute_result"
    }
   ],
   "source": [
    "movie.current_info"
   ]
  },
  {
   "cell_type": "code",
   "execution_count": 27,
   "metadata": {},
   "outputs": [
    {
     "data": {
      "text/plain": [
       "['title',\n",
       " 'year',\n",
       " 'kind',\n",
       " 'cover url',\n",
       " 'canonical title',\n",
       " 'long imdb title',\n",
       " 'long imdb canonical title',\n",
       " 'smart canonical title',\n",
       " 'smart long imdb canonical title',\n",
       " 'full-size cover url']"
      ]
     },
     "execution_count": 27,
     "metadata": {},
     "output_type": "execute_result"
    }
   ],
   "source": [
    "movie.keys()"
   ]
  },
  {
   "cell_type": "code",
   "execution_count": null,
   "metadata": {},
   "outputs": [],
   "source": [
    "from databaseSQLAlchemy import dbInterfaceSQLAlchemy\n",
    "db = dbInterfaceSQLAlchemy(engine=\"sqlite:///:memory:\")"
   ]
  },
  {
   "cell_type": "code",
   "execution_count": 26,
   "metadata": {},
   "outputs": [
    {
     "data": {
      "text/plain": [
       "20"
      ]
     },
     "execution_count": 26,
     "metadata": {},
     "output_type": "execute_result"
    }
   ],
   "source": [
    "db.createNewMovie(\"Avengers\", 2012, \"Movie\", \"url\", \"123456789\")"
   ]
  },
  {
   "cell_type": "code",
   "execution_count": 6,
   "metadata": {},
   "outputs": [
    {
     "data": {
      "text/plain": [
       "1"
      ]
     },
     "execution_count": 6,
     "metadata": {},
     "output_type": "execute_result"
    }
   ],
   "source": [
    "dbInterfaceSQLAlchemy().createNewMovie(\"Avengers\", 2012, \"Movie\", \"url\", \"123456789\")"
   ]
  },
  {
   "cell_type": "code",
   "execution_count": 61,
   "metadata": {},
   "outputs": [
    {
     "data": {
      "text/plain": [
       "{1, 2, 3, 4}"
      ]
     },
     "execution_count": 61,
     "metadata": {},
     "output_type": "execute_result"
    }
   ],
   "source": [
    "dbInterfaceSQLAlchemy().getAllMoviesIds()"
   ]
  },
  {
   "cell_type": "code",
   "execution_count": 62,
   "metadata": {},
   "outputs": [
    {
     "data": {
      "text/plain": [
       "{'id': 1,\n",
       " 'title': 'Avengers',\n",
       " 'year': 2012,\n",
       " 'kind': 'Movie',\n",
       " 'cover_url': 'url',\n",
       " 'imdb_id': '123456789'}"
      ]
     },
     "execution_count": 62,
     "metadata": {},
     "output_type": "execute_result"
    }
   ],
   "source": [
    "dbInterfaceSQLAlchemy().getMovieInfo(1)"
   ]
  },
  {
   "cell_type": "code",
   "execution_count": 2,
   "metadata": {},
   "outputs": [
    {
     "data": {
      "text/plain": [
       "[1, 2, 3, 4]"
      ]
     },
     "execution_count": 2,
     "metadata": {},
     "output_type": "execute_result"
    }
   ],
   "source": [
    "from json import dumps, loads\n",
    "\n",
    "\n",
    "loads(dumps([1, 2, 3, 4]))"
   ]
  }
 ],
 "metadata": {
  "kernelspec": {
   "display_name": "Python 3",
   "language": "python",
   "name": "python3"
  },
  "language_info": {
   "codemirror_mode": {
    "name": "ipython",
    "version": 3
   },
   "file_extension": ".py",
   "mimetype": "text/x-python",
   "name": "python",
   "nbconvert_exporter": "python",
   "pygments_lexer": "ipython3",
   "version": "3.10.8"
  }
 },
 "nbformat": 4,
 "nbformat_minor": 2
}
