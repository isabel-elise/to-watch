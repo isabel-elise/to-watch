{
 "cells": [
  {
   "cell_type": "code",
   "execution_count": 1,
   "metadata": {},
   "outputs": [],
   "source": [
    "import requests\n",
    "from imdb import Cinemagoer"
   ]
  },
  {
   "cell_type": "code",
   "execution_count": 10,
   "metadata": {},
   "outputs": [
    {
     "data": {
      "text/plain": [
       "b'<p>Searching for \"avengers\" </p>'"
      ]
     },
     "execution_count": 10,
     "metadata": {},
     "output_type": "execute_result"
    }
   ],
   "source": [
    "url = \"http://localhost:5000\"\n",
    "\n",
    "response = requests.get(f\"{url}/search/avengers\")\n",
    "\n",
    "response.content"
   ]
  },
  {
   "cell_type": "code",
   "execution_count": 2,
   "metadata": {},
   "outputs": [],
   "source": [
    "def imdbSearch(title):\n",
    "    ia = Cinemagoer()\n",
    "    search_result = ia.search_movie(title)\n",
    "\n",
    "    returnVal = [dict() for _ in range(len(search_result))]\n",
    "    for i in range(len(search_result)):\n",
    "        returnVal[i][\"imdbID\"] = search_result[i].getID()\n",
    "\n",
    "        try:\n",
    "            returnVal[i][\"title\"] = search_result[i][\"title\"]\n",
    "        except:\n",
    "            returnVal[i][\"title\"] = None\n",
    "\n",
    "        try:\n",
    "            returnVal[i][\"year\"] = search_result[i][\"year\"]\n",
    "        except KeyError:\n",
    "            returnVal[i][\"year\"] = None\n",
    "\n",
    "        try:\n",
    "            returnVal[i][\"kind\"] = search_result[i][\"kind\"]\n",
    "        except KeyError:\n",
    "            returnVal[i][\"kind\"] = None\n",
    "\n",
    "        try:\n",
    "            returnVal[i][\"cover url\"] = search_result[i][\"cover url\"]\n",
    "        except KeyError:\n",
    "            returnVal[i][\"cover url\"] = None\n",
    "\n",
    "        try:\n",
    "            returnVal[i][\"full-size cover url\"] = search_result[i][\"full-size cover url\"]\n",
    "        except KeyError:\n",
    "            returnVal[i][\"full-size cover url\"] = None\n",
    "\n",
    "    return returnVal"
   ]
  },
  {
   "cell_type": "code",
   "execution_count": 12,
   "metadata": {},
   "outputs": [],
   "source": [
    "ia = Cinemagoer()\n",
    "search_result = ia.search_movie(\"no game no life\")\n",
    "movie = search_result[0]"
   ]
  },
  {
   "cell_type": "code",
   "execution_count": 13,
   "metadata": {},
   "outputs": [
    {
     "data": {
      "text/plain": [
       "{'title': 20,\n",
       " 'year': 20,\n",
       " 'kind': 20,\n",
       " 'cover url': 12,\n",
       " 'canonical title': 20,\n",
       " 'long imdb title': 20,\n",
       " 'long imdb canonical title': 20,\n",
       " 'smart canonical title': 20,\n",
       " 'smart long imdb canonical title': 20,\n",
       " 'full-size cover url': 12,\n",
       " 'imdbIndex': 1}"
      ]
     },
     "execution_count": 13,
     "metadata": {},
     "output_type": "execute_result"
    }
   ],
   "source": [
    "a = dict()\n",
    "\n",
    "for movie in search_result:\n",
    "    for key in movie.keys():\n",
    "        if key not in a.keys():\n",
    "            a[key] = 1\n",
    "        else:\n",
    "            a[key] += 1\n",
    "\n",
    "a"
   ]
  }
 ],
 "metadata": {
  "kernelspec": {
   "display_name": "Python 3",
   "language": "python",
   "name": "python3"
  },
  "language_info": {
   "codemirror_mode": {
    "name": "ipython",
    "version": 3
   },
   "file_extension": ".py",
   "mimetype": "text/x-python",
   "name": "python",
   "nbconvert_exporter": "python",
   "pygments_lexer": "ipython3",
   "version": "3.10.12"
  }
 },
 "nbformat": 4,
 "nbformat_minor": 2
}
