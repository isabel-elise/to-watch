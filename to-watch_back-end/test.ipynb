{
 "cells": [
  {
   "cell_type": "code",
   "execution_count": 28,
   "metadata": {},
   "outputs": [],
   "source": [
    "import requests\n",
    "from imdb import Cinemagoer\n",
    "from time import time"
   ]
  },
  {
   "cell_type": "code",
   "execution_count": 10,
   "metadata": {},
   "outputs": [
    {
     "data": {
      "text/plain": [
       "b'<p>Searching for \"avengers\" </p>'"
      ]
     },
     "execution_count": 10,
     "metadata": {},
     "output_type": "execute_result"
    }
   ],
   "source": [
    "url = \"http://localhost:5000\"\n",
    "\n",
    "response = requests.get(f\"{url}/search/avengers\")\n",
    "\n",
    "response.content"
   ]
  },
  {
   "cell_type": "code",
   "execution_count": 2,
   "metadata": {},
   "outputs": [],
   "source": [
    "def imdbSearch(title):\n",
    "    ia = Cinemagoer()\n",
    "    search_result = ia.search_movie(title)\n",
    "\n",
    "    returnVal = [dict() for _ in range(len(search_result))]\n",
    "    for i in range(len(search_result)):\n",
    "        returnVal[i][\"imdbID\"] = search_result[i].getID()\n",
    "\n",
    "        try:\n",
    "            returnVal[i][\"title\"] = search_result[i][\"title\"]\n",
    "        except:\n",
    "            returnVal[i][\"title\"] = None\n",
    "\n",
    "        try:\n",
    "            returnVal[i][\"year\"] = search_result[i][\"year\"]\n",
    "        except KeyError:\n",
    "            returnVal[i][\"year\"] = None\n",
    "\n",
    "        try:\n",
    "            returnVal[i][\"kind\"] = search_result[i][\"kind\"]\n",
    "        except KeyError:\n",
    "            returnVal[i][\"kind\"] = None\n",
    "\n",
    "        try:\n",
    "            returnVal[i][\"cover url\"] = search_result[i][\"cover url\"]\n",
    "        except KeyError:\n",
    "            returnVal[i][\"cover url\"] = None\n",
    "\n",
    "        try:\n",
    "            returnVal[i][\"full-size cover url\"] = search_result[i][\"full-size cover url\"]\n",
    "        except KeyError:\n",
    "            returnVal[i][\"full-size cover url\"] = None\n",
    "\n",
    "    return returnVal"
   ]
  },
  {
   "cell_type": "code",
   "execution_count": 49,
   "metadata": {},
   "outputs": [
    {
     "name": "stdout",
     "output_type": "stream",
     "text": [
      "Conteúdo busca em massa:\n",
      "['title', 'year', 'kind', 'cover url', 'canonical title', 'long imdb title', 'long imdb canonical title', 'smart canonical title', 'smart long imdb canonical title', 'full-size cover url']\n",
      "Tempo gasto: 2.2376065254211426\n",
      "\n",
      "Conteúdo busca individual:\n",
      "['localized title', 'cast', 'genres', 'runtimes', 'countries', 'country codes', 'language codes', 'color info', 'aspect ratio', 'sound mix', 'certificates', 'number of seasons', 'rating', 'votes', 'cover url', 'imdbID', 'videos', 'plot outline', 'languages', 'title', 'year', 'kind', 'series years', 'original title', 'akas', 'seasons', 'writer', 'production companies', 'distributors', 'other companies', 'plot', 'canonical title', 'long imdb title', 'long imdb canonical title', 'smart canonical title', 'smart long imdb canonical title', 'full-size cover url']\n",
      "Tempo gasto: 3.585465908050537\n",
      "\n"
     ]
    }
   ],
   "source": [
    "ia = Cinemagoer()\n",
    "\n",
    "print(\"Conteúdo busca em massa:\")\n",
    "timeA = time()\n",
    "search_result = ia.search_movie(\"no game no life\")\n",
    "movie = search_result[0]\n",
    "timeB = time()\n",
    "print(movie.keys())\n",
    "print(f\"Tempo gasto: {timeB - timeA}\")\n",
    "\n",
    "print()\n",
    "\n",
    "print(\"Conteúdo busca individual:\")\n",
    "timeA = time()\n",
    "movie = ia.get_movie(movie.getID())\n",
    "timeB = time()\n",
    "print(movie.keys())\n",
    "print(f\"Tempo gasto: {timeB - timeA}\")\n",
    "\n",
    "print()\n",
    "\n",
    "# print(\"Conteúdo busca individual, de todos\")\n",
    "# timeA = time()\n",
    "# aux = dict()\n",
    "# for i in range(len(search_result)):\n",
    "#     movieID = search_result[i].getID()\n",
    "#     movie = ia.get_movie(movieID)\n",
    "    \n",
    "#     for key in movie.keys():\n",
    "#         if key not in aux:\n",
    "#             aux[key] = 1\n",
    "#         else:\n",
    "#             aux[key] += 1\n",
    "# timeB = time()\n",
    "# print(aux)\n",
    "# print(f\"Tempo gasto: {timeB - timeA}\")\n",
    "    \n",
    "# timeB = time()"
   ]
  },
  {
   "cell_type": "code",
   "execution_count": null,
   "metadata": {},
   "outputs": [],
   "source": [
    "timeB = time()"
   ]
  },
  {
   "cell_type": "code",
   "execution_count": 47,
   "metadata": {},
   "outputs": [
    {
     "name": "stdout",
     "output_type": "stream",
     "text": [
      "['plot']\n"
     ]
    }
   ],
   "source": [
    "ia.update(movie, info=['main', 'plot', 'synopsis'])\n",
    "movie = ia.get_movie(movie.getID(), \"synopsis\")\n",
    "print(movie.keys())"
   ]
  },
  {
   "cell_type": "code",
   "execution_count": 48,
   "metadata": {},
   "outputs": [
    {
     "data": {
      "text/plain": [
       "['The story of a game development company employee and her boss, who happens to be her ex-girlfriend.',\n",
       " \"This is the second drama adaptation of the original manga Chaser Game, which is set in the games industry. It follows Harumoto Itsuki, a 27 year old employee who works at the game development company Dynamic Dream. She is selected as the project leader of a major collaborative work between Japan and China. Hayashi Fuyu is the head of a major Chinese content company but she also happens to be Harumoto's ex-girlfriend. This is a revenge love-hate drama between a lesbian boss and her subordinate.—Drama-Otaku\"]"
      ]
     },
     "execution_count": 48,
     "metadata": {},
     "output_type": "execute_result"
    }
   ],
   "source": [
    "movie[\"plot\"]"
   ]
  },
  {
   "cell_type": "code",
   "execution_count": 21,
   "metadata": {},
   "outputs": [
    {
     "data": {
      "text/plain": [
       "['main', 'plot', 'synopsis']"
      ]
     },
     "execution_count": 21,
     "metadata": {},
     "output_type": "execute_result"
    }
   ],
   "source": [
    "movie.current_info"
   ]
  },
  {
   "cell_type": "code",
   "execution_count": 27,
   "metadata": {},
   "outputs": [
    {
     "data": {
      "text/plain": [
       "['title',\n",
       " 'year',\n",
       " 'kind',\n",
       " 'cover url',\n",
       " 'canonical title',\n",
       " 'long imdb title',\n",
       " 'long imdb canonical title',\n",
       " 'smart canonical title',\n",
       " 'smart long imdb canonical title',\n",
       " 'full-size cover url']"
      ]
     },
     "execution_count": 27,
     "metadata": {},
     "output_type": "execute_result"
    }
   ],
   "source": [
    "movie.keys()"
   ]
  },
  {
   "cell_type": "code",
   "execution_count": 52,
   "metadata": {},
   "outputs": [],
   "source": [
    "from databaseSQLAlchemy import dbInterfaceSQLAlchemy\n",
    "db = dbInterfaceSQLAlchemy()"
   ]
  },
  {
   "cell_type": "code",
   "execution_count": 60,
   "metadata": {},
   "outputs": [
    {
     "data": {
      "text/plain": [
       "4"
      ]
     },
     "execution_count": 60,
     "metadata": {},
     "output_type": "execute_result"
    }
   ],
   "source": [
    "dbInterfaceSQLAlchemy().createNewMovie(\"Avengers\", 2012, \"Movie\", \"url\", \"123456789\")"
   ]
  },
  {
   "cell_type": "code",
   "execution_count": 61,
   "metadata": {},
   "outputs": [
    {
     "data": {
      "text/plain": [
       "{1, 2, 3, 4}"
      ]
     },
     "execution_count": 61,
     "metadata": {},
     "output_type": "execute_result"
    }
   ],
   "source": [
    "dbInterfaceSQLAlchemy().getAllMoviesIds()"
   ]
  },
  {
   "cell_type": "code",
   "execution_count": 62,
   "metadata": {},
   "outputs": [
    {
     "data": {
      "text/plain": [
       "{'id': 1,\n",
       " 'title': 'Avengers',\n",
       " 'year': 2012,\n",
       " 'kind': 'Movie',\n",
       " 'cover_url': 'url',\n",
       " 'imdb_id': '123456789'}"
      ]
     },
     "execution_count": 62,
     "metadata": {},
     "output_type": "execute_result"
    }
   ],
   "source": [
    "dbInterfaceSQLAlchemy().getMovieInfo(1)"
   ]
  }
 ],
 "metadata": {
  "kernelspec": {
   "display_name": "Python 3",
   "language": "python",
   "name": "python3"
  },
  "language_info": {
   "codemirror_mode": {
    "name": "ipython",
    "version": 3
   },
   "file_extension": ".py",
   "mimetype": "text/x-python",
   "name": "python",
   "nbconvert_exporter": "python",
   "pygments_lexer": "ipython3",
   "version": "3.10.12"
  }
 },
 "nbformat": 4,
 "nbformat_minor": 2
}
