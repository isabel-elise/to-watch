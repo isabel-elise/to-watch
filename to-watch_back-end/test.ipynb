{
 "cells": [
  {
   "cell_type": "code",
   "execution_count": 15,
   "metadata": {},
   "outputs": [],
   "source": [
    "from pprint import pprint"
   ]
  },
  {
   "cell_type": "code",
   "execution_count": 13,
   "metadata": {},
   "outputs": [],
   "source": [
    "import requests\n",
    "base = \"http://127.0.0.1:5000\"\n"
   ]
  },
  {
   "cell_type": "code",
   "execution_count": null,
   "metadata": {},
   "outputs": [
    {
     "name": "stdout",
     "output_type": "stream",
     "text": [
      "[\n",
      "  {\n",
      "    \"id\": 1,\n",
      "    \"name\": \"Teste\"\n",
      "  },\n",
      "  {\n",
      "    \"id\": 2,\n",
      "    \"name\": \"Teste\"\n",
      "  },\n",
      "  {\n",
      "    \"id\": 3,\n",
      "    \"name\": \"test list\"\n",
      "  },\n",
      "  {\n",
      "    \"id\": 4,\n",
      "    \"name\": \"test list 2\"\n",
      "  },\n",
      "  {\n",
      "    \"id\": 5,\n",
      "    \"name\": \"test list 2\"\n",
      "  }\n",
      "]\n",
      "\n"
     ]
    }
   ],
   "source": [
    "# get every list\n",
    "res = requests.get(f\"{base}/lists\")\n",
    "print(res.content.decode(\"utf-8\"))"
   ]
  },
  {
   "cell_type": "code",
   "execution_count": 23,
   "metadata": {},
   "outputs": [
    {
     "name": "stdout",
     "output_type": "stream",
     "text": [
      "[\n",
      "  {\n",
      "    \"cover_url\": \"inexistente.com\",\n",
      "    \"id\": 3,\n",
      "    \"imdb_id\": null,\n",
      "    \"kind\": null,\n",
      "    \"rating\": 20.0,\n",
      "    \"title\": \"NGNL Season 2\",\n",
      "    \"year\": 2025\n",
      "  },\n",
      "  {\n",
      "    \"cover_url\": \"inexistente.com\",\n",
      "    \"id\": 4,\n",
      "    \"imdb_id\": null,\n",
      "    \"kind\": \"alucina\\u00e7\\u00e3o coletiva\",\n",
      "    \"rating\": 20.0,\n",
      "    \"title\": \"NGNL Season 2\",\n",
      "    \"year\": 2025\n",
      "  },\n",
      "  {\n",
      "    \"cover_url\": \"inexistente.com\",\n",
      "    \"id\": 5,\n",
      "    \"imdb_id\": \"um imdb id ai\",\n",
      "    \"kind\": \"alucinac\\u00e3o coletiva\",\n",
      "    \"rating\": 20.0,\n",
      "    \"title\": \"NGNL Season 2\",\n",
      "    \"year\": 2025\n",
      "  }\n",
      "]\n",
      "\n"
     ]
    }
   ],
   "source": [
    "listid = 1\n",
    "res = requests.get(f\"{base}/movies/{listid}\")\n",
    "print(res.content.decode(\"utf-8\"))"
   ]
  },
  {
   "cell_type": "code",
   "execution_count": 52,
   "metadata": {},
   "outputs": [
    {
     "name": "stdout",
     "output_type": "stream",
     "text": [
      "[\n",
      "  {\n",
      "    \"cover_url\": \"inexistente.com\",\n",
      "    \"id\": 3,\n",
      "    \"imdb_id\": null,\n",
      "    \"kind\": null,\n",
      "    \"rating\": 20.0,\n",
      "    \"title\": \"NGNL Season 2\",\n",
      "    \"year\": 2025\n",
      "  },\n",
      "  {\n",
      "    \"cover_url\": \"inexistente.com\",\n",
      "    \"id\": 5,\n",
      "    \"imdb_id\": \"um imdb id ai\",\n",
      "    \"kind\": \"alucinac\\u00e3o coletiva\",\n",
      "    \"rating\": 20.0,\n",
      "    \"title\": \"NGNL Season 2\",\n",
      "    \"year\": 2025\n",
      "  }\n",
      "]\n",
      "\n"
     ]
    }
   ],
   "source": [
    "listid = 1\n",
    "movieid = 4\n",
    "res = requests.delete(f\"{base}/remove_from_list/{listid}/{movieid}\")\n",
    "print(res.content.decode(\"utf-8\").replace(\"<br>\", \"\\n\"))"
   ]
  },
  {
   "cell_type": "code",
   "execution_count": 26,
   "metadata": {},
   "outputs": [
    {
     "data": {
      "text/plain": [
       "b'<!doctype html>\\n<html lang=en>\\n<title>400 Bad Request</title>\\n<h1>Bad Request</h1>\\n<p>List id not found</p>\\n'"
      ]
     },
     "execution_count": 26,
     "metadata": {},
     "output_type": "execute_result"
    }
   ],
   "source": []
  }
 ],
 "metadata": {
  "kernelspec": {
   "display_name": "Python 3",
   "language": "python",
   "name": "python3"
  },
  "language_info": {
   "codemirror_mode": {
    "name": "ipython",
    "version": 3
   },
   "file_extension": ".py",
   "mimetype": "text/x-python",
   "name": "python",
   "nbconvert_exporter": "python",
   "pygments_lexer": "ipython3",
   "version": "3.10.12"
  }
 },
 "nbformat": 4,
 "nbformat_minor": 2
}
